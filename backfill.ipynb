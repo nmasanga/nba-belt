{
 "cells": [
  {
   "cell_type": "code",
   "execution_count": 1,
   "metadata": {},
   "outputs": [],
   "source": [
    "import numpy as np\n",
    "import pandas as pd\n",
    "from bs4 import BeautifulSoup, SoupStrainer\n",
    "import sys\n",
    "import string\n",
    "import requests\n",
    "import datetime\n",
    "from datetime import timedelta\n",
    "import time"
   ]
  },
  {
   "cell_type": "code",
   "execution_count": 234,
   "metadata": {},
   "outputs": [],
   "source": [
    "## backfill\n",
    "first_game = datetime.datetime.strptime('2019-10-22', \"%Y-%m-%d\")\n",
    "last_game = datetime.datetime.strptime('2020-04-15', \"%Y-%m-%d\")\n",
    "winning_team = 'Toronto'\n",
    "pd.options.display.max_colwidth = 100\n",
    "game_date = first_game\n",
    "\n",
    "columns = ['date','Winner', 'Winner_Score', 'Loser', 'Loser_Score', 'box_score']\n",
    "df = pd.DataFrame(columns = columns)\n",
    "\n",
    "while game_date < datetime.datetime.now() and datetime.datetime.now() <= last_game:\n",
    "    d = game_date.day\n",
    "    m = game_date.month\n",
    "    y = game_date.year\n",
    "    date_str = str(y) + '-' + str(m) + '-' + str(d)\n",
    "    \n",
    "    base_url = 'http://basketball-reference.com/boxscores/index.fcgi?month=' + str(m) + '&day=' +str(d)+'&year=' + str(y)\n",
    "    page_response = requests.get(base_url, timeout=5)\n",
    "    page_content = BeautifulSoup(page_response.content, \"html.parser\")\n",
    "    \n",
    "    scores = page_content.find_all('table', {'class': 'teams'})\n",
    "    \n",
    "    for games in scores:\n",
    "        if winning_team in str(games):\n",
    "            data = []\n",
    "            champ_score = games\n",
    "\n",
    "            winner = champ_score.find('tr', {'class':'winner'}) ## find row that has the winner\n",
    "            winning_team = winner.find('a').string ## winning team name\n",
    "            winning_score = winner.find('td', {'class':'right'}).string ## winning team score\n",
    "\n",
    "            loser = champ_score.find('tr', {'class':'loser'}) ## find row that has the loser\n",
    "            losing_team = loser.find('a').string ## losing team name\n",
    "            losing_score = loser.find('td', {'class':'right'}).string ## losing team score\n",
    "\n",
    "            box_score_td = champ_score.find('td', {'class':['gamelink']}) ## find the box score link\n",
    "            href = box_score_td.find('a')['href'] ## get the href from the anchor tag\n",
    "            box_score_url = 'https://www.basketball-reference.com' + href\n",
    "            # anchor_tag = href='https://www.basketball-reference.com\" + href + \"'>\" + 'Link</a>'\n",
    "\n",
    "\n",
    "            data.insert(0, {'date': date_str,\n",
    "                            'Winner': winning_team,\n",
    "                            'Winner_Score': winning_score,\n",
    "                            'Loser': losing_team,\n",
    "                            'Loser_Score': losing_score,\n",
    "                            'box_score': box_score_url})\n",
    "            df = pd.concat([pd.DataFrame(data), df], ignore_index=True)\n",
    "            break\n",
    "        else:\n",
    "            continue\n",
    "\n",
    "    game_date = game_date + timedelta(days=1)\n",
    "\n",
    "columns = ['date','Winner', 'Winner_Score', 'Loser', 'Loser_Score', 'box_score']\n",
    "df = df[columns] # reorder columns\n",
    "df = df.set_index('date') # set index to date"
   ]
  },
  {
   "cell_type": "code",
   "execution_count": 247,
   "metadata": {},
   "outputs": [
    {
     "data": {
      "text/html": [
       "<div>\n",
       "<style scoped>\n",
       "    .dataframe tbody tr th:only-of-type {\n",
       "        vertical-align: middle;\n",
       "    }\n",
       "\n",
       "    .dataframe tbody tr th {\n",
       "        vertical-align: top;\n",
       "    }\n",
       "\n",
       "    .dataframe thead th {\n",
       "        text-align: right;\n",
       "    }\n",
       "</style>\n",
       "<table border=\"1\" class=\"dataframe\">\n",
       "  <thead>\n",
       "    <tr style=\"text-align: right;\">\n",
       "      <th></th>\n",
       "      <th>Winner</th>\n",
       "      <th>Winner_Score</th>\n",
       "      <th>Loser</th>\n",
       "      <th>Loser_Score</th>\n",
       "      <th>box_score</th>\n",
       "    </tr>\n",
       "    <tr>\n",
       "      <th>date</th>\n",
       "      <th></th>\n",
       "      <th></th>\n",
       "      <th></th>\n",
       "      <th></th>\n",
       "      <th></th>\n",
       "    </tr>\n",
       "  </thead>\n",
       "  <tbody>\n",
       "    <tr>\n",
       "      <th>2020-2-25</th>\n",
       "      <td>LA Lakers</td>\n",
       "      <td>118</td>\n",
       "      <td>New Orleans</td>\n",
       "      <td>109</td>\n",
       "      <td>https://www.basketball-reference.com/boxscores/202002250LAL.html</td>\n",
       "    </tr>\n",
       "    <tr>\n",
       "      <th>2020-2-23</th>\n",
       "      <td>LA Lakers</td>\n",
       "      <td>114</td>\n",
       "      <td>Boston</td>\n",
       "      <td>112</td>\n",
       "      <td>https://www.basketball-reference.com/boxscores/202002230LAL.html</td>\n",
       "    </tr>\n",
       "    <tr>\n",
       "      <th>2020-2-21</th>\n",
       "      <td>LA Lakers</td>\n",
       "      <td>117</td>\n",
       "      <td>Memphis</td>\n",
       "      <td>105</td>\n",
       "      <td>https://www.basketball-reference.com/boxscores/202002210LAL.html</td>\n",
       "    </tr>\n",
       "    <tr>\n",
       "      <th>2020-2-12</th>\n",
       "      <td>LA Lakers</td>\n",
       "      <td>120</td>\n",
       "      <td>Denver</td>\n",
       "      <td>116</td>\n",
       "      <td>https://www.basketball-reference.com/boxscores/202002120DEN.html</td>\n",
       "    </tr>\n",
       "    <tr>\n",
       "      <th>2020-2-10</th>\n",
       "      <td>Denver</td>\n",
       "      <td>127</td>\n",
       "      <td>San Antonio</td>\n",
       "      <td>120</td>\n",
       "      <td>https://www.basketball-reference.com/boxscores/202002100DEN.html</td>\n",
       "    </tr>\n",
       "  </tbody>\n",
       "</table>\n",
       "</div>"
      ],
      "text/plain": [
       "              Winner Winner_Score        Loser Loser_Score  \\\n",
       "date                                                         \n",
       "2020-2-25  LA Lakers          118  New Orleans         109   \n",
       "2020-2-23  LA Lakers          114       Boston         112   \n",
       "2020-2-21  LA Lakers          117      Memphis         105   \n",
       "2020-2-12  LA Lakers          120       Denver         116   \n",
       "2020-2-10     Denver          127  San Antonio         120   \n",
       "\n",
       "                                                                  box_score  \n",
       "date                                                                         \n",
       "2020-2-25  https://www.basketball-reference.com/boxscores/202002250LAL.html  \n",
       "2020-2-23  https://www.basketball-reference.com/boxscores/202002230LAL.html  \n",
       "2020-2-21  https://www.basketball-reference.com/boxscores/202002210LAL.html  \n",
       "2020-2-12  https://www.basketball-reference.com/boxscores/202002120DEN.html  \n",
       "2020-2-10  https://www.basketball-reference.com/boxscores/202002100DEN.html  "
      ]
     },
     "execution_count": 247,
     "metadata": {},
     "output_type": "execute_result"
    }
   ],
   "source": [
    "df.head()"
   ]
  },
  {
   "cell_type": "code",
   "execution_count": 236,
   "metadata": {},
   "outputs": [
    {
     "name": "stdout",
     "output_type": "stream",
     "text": [
      "Current championship belt holder: LA Lakers\n"
     ]
    }
   ],
   "source": [
    "## find winner\n",
    "belt_holder = df['Winner'][0]\n",
    "print(\"Current championship belt holder: \" + belt_holder)"
   ]
  },
  {
   "cell_type": "code",
   "execution_count": 250,
   "metadata": {},
   "outputs": [
    {
     "name": "stdout",
     "output_type": "stream",
     "text": [
      "The team with the most title defenses: Boston\n",
      "They have 14 title defense wins.\n"
     ]
    }
   ],
   "source": [
    "## find team with the most title defenses\n",
    "winner_count = df.groupby('Winner').count()[['Winner_Score']] ## get count of each games won while holding belt\n",
    "winner_count = winner_count.sort_values('Winner_Score', axis=0, ascending=False, inplace=False, kind='quicksort', na_position='last') ## reorder\n",
    "winner_count = winner_count.reset_index(drop=False) ## remove index so Winner header can be called\n",
    "most_win_team = winner_count['Winner'][0]\n",
    "most_wins = winner_count['Winner_Score'][0]\n",
    "\n",
    "print(\"The team with the most title defenses: \" + most_win_team)\n",
    "print(\"They have \" + str(most_wins) + \" title defense wins.\")"
   ]
  },
  {
   "cell_type": "code",
   "execution_count": 248,
   "metadata": {},
   "outputs": [
    {
     "data": {
      "text/html": [
       "<div>\n",
       "<style scoped>\n",
       "    .dataframe tbody tr th:only-of-type {\n",
       "        vertical-align: middle;\n",
       "    }\n",
       "\n",
       "    .dataframe tbody tr th {\n",
       "        vertical-align: top;\n",
       "    }\n",
       "\n",
       "    .dataframe thead th {\n",
       "        text-align: right;\n",
       "    }\n",
       "</style>\n",
       "<table border=\"1\" class=\"dataframe\">\n",
       "  <thead>\n",
       "    <tr style=\"text-align: right;\">\n",
       "      <th></th>\n",
       "      <th>Winner</th>\n",
       "      <th>Winner_Score</th>\n",
       "    </tr>\n",
       "  </thead>\n",
       "  <tbody>\n",
       "    <tr>\n",
       "      <th>0</th>\n",
       "      <td>Boston</td>\n",
       "      <td>14</td>\n",
       "    </tr>\n",
       "    <tr>\n",
       "      <th>1</th>\n",
       "      <td>Memphis</td>\n",
       "      <td>7</td>\n",
       "    </tr>\n",
       "    <tr>\n",
       "      <th>2</th>\n",
       "      <td>Indiana</td>\n",
       "      <td>5</td>\n",
       "    </tr>\n",
       "    <tr>\n",
       "      <th>3</th>\n",
       "      <td>Milwaukee</td>\n",
       "      <td>5</td>\n",
       "    </tr>\n",
       "    <tr>\n",
       "      <th>4</th>\n",
       "      <td>Brooklyn</td>\n",
       "      <td>4</td>\n",
       "    </tr>\n",
       "  </tbody>\n",
       "</table>\n",
       "</div>"
      ],
      "text/plain": [
       "      Winner  Winner_Score\n",
       "0     Boston            14\n",
       "1    Memphis             7\n",
       "2    Indiana             5\n",
       "3  Milwaukee             5\n",
       "4   Brooklyn             4"
      ]
     },
     "execution_count": 248,
     "metadata": {},
     "output_type": "execute_result"
    }
   ],
   "source": [
    "winner_count.head()"
   ]
  },
  {
   "cell_type": "code",
   "execution_count": 246,
   "metadata": {},
   "outputs": [
    {
     "data": {
      "text/plain": [
       "'\\nMy analysis process:\\n\\nUnderstand context\\n    - Know how the feature works (i.e. read specs)\\n    - Understand what problem is trying to be solved\\n    - What is the goal of the feature?\\n    - Talk to stakeholders involved (PMs, designers, marketing etc.) and try to understand\\n\\n'"
      ]
     },
     "execution_count": 246,
     "metadata": {},
     "output_type": "execute_result"
    }
   ],
   "source": []
  },
  {
   "cell_type": "code",
   "execution_count": null,
   "metadata": {},
   "outputs": [],
   "source": []
  }
 ],
 "metadata": {
  "kernelspec": {
   "display_name": "Python 2",
   "language": "python",
   "name": "python2"
  },
  "language_info": {
   "codemirror_mode": {
    "name": "ipython",
    "version": 3
   },
   "file_extension": ".py",
   "mimetype": "text/x-python",
   "name": "python",
   "nbconvert_exporter": "python",
   "pygments_lexer": "ipython3",
   "version": "3.6.4"
  }
 },
 "nbformat": 4,
 "nbformat_minor": 2
}

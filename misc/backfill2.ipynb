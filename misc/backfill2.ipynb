{
 "cells": [
  {
   "cell_type": "code",
   "execution_count": 1,
   "metadata": {},
   "outputs": [],
   "source": [
    "import numpy as np\n",
    "import pandas as pd\n",
    "from bs4 import BeautifulSoup, SoupStrainer\n",
    "import sys\n",
    "import string\n",
    "import requests\n",
    "import datetime\n",
    "from datetime import timedelta\n",
    "import time\n",
    "import os.path\n",
    "from os import path"
   ]
  },
  {
   "cell_type": "code",
   "execution_count": 2,
   "metadata": {},
   "outputs": [],
   "source": [
    "first_game = datetime.datetime.strptime('2019-10-22', \"%Y-%m-%d\")\n",
    "last_game = datetime.datetime.strptime('2020-04-15', \"%Y-%m-%d\")\n",
    "winning_team = 'Toronto'\n",
    "pd.options.display.max_colwidth = 100"
   ]
  },
  {
   "cell_type": "code",
   "execution_count": 3,
   "metadata": {},
   "outputs": [],
   "source": [
    "def convert_link(str):\n",
    "    soup = BeautifulSoup('',\"html.parser\")\n",
    "    new_link = soup.new_tag('a', href=str, target='_blank')\n",
    "    new_link.string=\"Link\"\n",
    "    return(new_link)\n",
    "\n",
    "\n",
    "## web scraping\n",
    "def soup(game_date=None, df=None, winning_team=str):\n",
    "    while game_date < datetime.datetime.now() and datetime.datetime.now() <= last_game:\n",
    "        d = game_date.day\n",
    "        m = game_date.month\n",
    "        y = game_date.year\n",
    "        date_str = str(y) + '-' + str(m) + '-' + str(d)\n",
    "\n",
    "        base_url = 'http://basketball-reference.com/boxscores/index.fcgi?month=' + str(m) + '&day=' +str(d)+'&year=' + str(y)\n",
    "        page_response = requests.get(base_url, timeout=5)\n",
    "        page_content = BeautifulSoup(page_response.content, \"html.parser\")\n",
    "\n",
    "\n",
    "        scores = page_content.find_all('table', {'class': 'teams'}) ## gets each box score, puts it into list\n",
    "\n",
    "        for games in scores: ## loop through them and check which box score contains the winner\n",
    "            if winning_team in str(games):\n",
    "                data = []\n",
    "                champ_score = games\n",
    "\n",
    "                winner = champ_score.find('tr', {'class':'winner'}) ## find row that has the winner\n",
    "                winning_team = winner.find('a').string ## winning team name\n",
    "                winning_score = winner.find('td', {'class':'right'}).string ## winning team score\n",
    "\n",
    "                loser = champ_score.find('tr', {'class':'loser'}) ## find row that has the loser\n",
    "                losing_team = loser.find('a').string ## losing team name\n",
    "                losing_score = loser.find('td', {'class':'right'}).string ## losing team score\n",
    "\n",
    "                final_score = winning_score + \" - \" + losing_score\n",
    "\n",
    "                box_score_td = champ_score.find('td', {'class':['gamelink']}) ## find the box score link\n",
    "                href = box_score_td.find('a')['href'] ## get the href from the anchor tag\n",
    "                box_score_url = 'https://www.basketball-reference.com' + href\n",
    "                box_score_url = convert_link(box_score_url)\n",
    "                # box_score_url ='<a href=\"https://www.basketball-reference.com' + href + '\">' + 'Link</a>'\n",
    "\n",
    "\n",
    "                data.insert(0, {'Date': date_str,\n",
    "                                'Winner': winning_team,\n",
    "                                'Loser': losing_team,\n",
    "                                'Final Score': final_score,\n",
    "                                'Box Score': box_score_url})\n",
    "                df = pd.concat([pd.DataFrame(data), df], ignore_index=True)\n",
    "                break\n",
    "            else:\n",
    "                continue\n",
    "\n",
    "        game_date = game_date + timedelta(days=1)\n",
    "\n",
    "    columns = ['Date','Winner', 'Loser', 'Final Score', 'Box Score']\n",
    "    df = df[columns] # reorder columns\n",
    "    # df = df.set_index('date') # set index to date\n",
    "    return(df)\n"
   ]
  },
  {
   "cell_type": "code",
   "execution_count": 4,
   "metadata": {},
   "outputs": [],
   "source": [
    "def backfill():\n",
    "    columns = ['Date','Winner', 'Loser', 'Final Score', 'Box Score'] ## create new dataFrame\n",
    "    new_df = pd.DataFrame(columns = columns)\n",
    "\n",
    "    df = soup(first_game, new_df, winning_team=winning_team)\n",
    "    return(df)"
   ]
  },
  {
   "cell_type": "code",
   "execution_count": 5,
   "metadata": {},
   "outputs": [],
   "source": [
    "def update():\n",
    "    df = pd.read_csv(\"data/scores.csv\")\n",
    "    max_date = df['date'][0]\n",
    "    max_date = datetime.datetime.strptime(max_date, \"%Y-%m-%d\")\n",
    "    max_date = max_date + timedelta(days=1)\n",
    "    winner = df['Winner'][0]\n",
    "\n",
    "    df = soup(max_date, df, winner)\n",
    "    return(df)"
   ]
  },
  {
   "cell_type": "code",
   "execution_count": 6,
   "metadata": {},
   "outputs": [],
   "source": [
    "def write_html(df=None):\n",
    "    print('Writing HTML file.')\n",
    "    html = df.to_html(escape=False)\n",
    "    html_file= open(\"data/game_data.html\",\"w\")\n",
    "    html_file.write(html)\n",
    "    html_file.close()"
   ]
  },
  {
   "cell_type": "code",
   "execution_count": 11,
   "metadata": {},
   "outputs": [
    {
     "name": "stdout",
     "output_type": "stream",
     "text": [
      "Creating dataframe from scratch\n"
     ]
    }
   ],
   "source": [
    "if path.exists('data/scores.csv') == True:\n",
    "    print(\"Updating existing CSV\")\n",
    "#     df = update()\n",
    "else:\n",
    "    print(\"Creating dataframe from scratch\")\n",
    "    df = backfill()"
   ]
  },
  {
   "cell_type": "code",
   "execution_count": 38,
   "metadata": {},
   "outputs": [],
   "source": [
    "winner_count = df.groupby('Winner').count()[['Final Score']] ## get count of each games won while holding belt\n"
   ]
  },
  {
   "cell_type": "code",
   "execution_count": 34,
   "metadata": {},
   "outputs": [],
   "source": [
    "def write_winner():\n",
    "    belt_holder = df['Winner'][0]\n",
    "    if belt_holder == 'Atlanta':\n",
    "        belt_holder = 'Atlanta Hawks'\n",
    "    elif belt_holder == 'Boston':\n",
    "        belt_holder = 'Boston Celtics'\n",
    "    elif belt_holder == 'Brooklyn':\n",
    "        belt_holder = 'Brooklyn Nets'\n",
    "    elif belt_holder == 'Charlotte':\n",
    "        belt_holder = 'Charlotte Hornets'\n",
    "    elif belt_holder == 'Chicago':\n",
    "        belt_holder = 'Chicago Bulls'\n",
    "    elif belt_holder == 'Cleveland':\n",
    "        belt_holder = 'Cleveland Cavaliers'\n",
    "    elif belt_holder == 'Dallas':\n",
    "        belt_holder = 'Dallas Mavericks'\n",
    "    elif belt_holder == 'Denver':\n",
    "        belt_holder = 'Denver Nuggets'\n",
    "    elif belt_holder == 'Detroit':\n",
    "        belt_holder = 'Detroit Pistons'\n",
    "    elif belt_holder == 'Golden State':\n",
    "        belt_holder = 'Golden State Warriors'\n",
    "    elif belt_holder == 'Houston':\n",
    "        belt_holder = 'Houston Rockets'\n",
    "    elif belt_holder == 'Indiana':\n",
    "        belt_holder = 'Indiana Pacers'\n",
    "    elif belt_holder == 'LA Clippers':\n",
    "        belt_holder = 'Los Angeles Clippers'\n",
    "    elif belt_holder == 'LA Lakers':\n",
    "        belt_holder = 'Los Angeles Lakers'\n",
    "    elif belt_holder == 'Memphis':\n",
    "        belt_holder = 'Memphis Grizzlies'\n",
    "    elif belt_holder == 'Miami':\n",
    "        belt_holder = 'Miami Heat'\n",
    "    elif belt_holder == 'Milwaukee':\n",
    "        belt_holder = 'Milwaukee Bucks'\n",
    "    elif belt_holder == 'Minnesota':\n",
    "        belt_holder = 'Minnesota Timberwolves'\n",
    "    elif belt_holder == 'New Orleans':\n",
    "        belt_holder = 'New Orleans Pelicans'\n",
    "    elif belt_holder == 'New York':\n",
    "        belt_holder = 'New York Knicks'\n",
    "    elif belt_holder == 'Oklahoma City':\n",
    "        belt_holder = 'Oklahoma City Thunder'\n",
    "    elif belt_holder == 'Orlando':\n",
    "        belt_holder = 'Orlando Magic'\n",
    "    elif belt_holder == 'Philadelphia':\n",
    "        belt_holder = 'Philadelphia Sixers'\n",
    "    elif belt_holder == 'Phoenix':\n",
    "        belt_holder = 'Phoenix Suns'\n",
    "    elif belt_holder == 'Portland':\n",
    "        belt_holder = 'Portland Trail Blazers'\n",
    "    elif belt_holder == 'Sacramento':\n",
    "        belt_holder = 'Sacramento Kings'\n",
    "    elif belt_holder == 'San Antonio':\n",
    "        belt_holder = 'San Antonio Spurs'\n",
    "    elif belt_holder == 'Toronto':\n",
    "        belt_holder = 'Toronto Raptors'\n",
    "    elif belt_holder == 'Utah':\n",
    "        belt_holder = 'Utah Jazz'\n",
    "    elif belt_holder == 'Washington':\n",
    "        belt_holder = 'Washington Wizards'\n",
    "    else:\n",
    "        belt_holder = belt_holder\n",
    "    return(belt_holder)"
   ]
  },
  {
   "cell_type": "code",
   "execution_count": 36,
   "metadata": {},
   "outputs": [
    {
     "data": {
      "text/plain": [
       "'Boston Celtics'"
      ]
     },
     "execution_count": 36,
     "metadata": {},
     "output_type": "execute_result"
    }
   ],
   "source": [
    "belt_holder = write_winner()\n",
    "belt_holder"
   ]
  },
  {
   "cell_type": "code",
   "execution_count": 50,
   "metadata": {},
   "outputs": [],
   "source": [
    "href='/boxscores/201910220TOR.html'\n",
    "anchor_tag =\"https://www.basketball-reference.com'\" + href"
   ]
  },
  {
   "cell_type": "code",
   "execution_count": 78,
   "metadata": {},
   "outputs": [],
   "source": [
    "new_link = convert_link(anchor_tag)"
   ]
  },
  {
   "cell_type": "code",
   "execution_count": 85,
   "metadata": {},
   "outputs": [
    {
     "data": {
      "text/plain": [
       "bs4.element.Tag"
      ]
     },
     "execution_count": 85,
     "metadata": {},
     "output_type": "execute_result"
    }
   ],
   "source": [
    "type(df['Box Score'][0])"
   ]
  },
  {
   "cell_type": "code",
   "execution_count": 12,
   "metadata": {},
   "outputs": [
    {
     "data": {
      "text/html": [
       "<div>\n",
       "<style scoped>\n",
       "    .dataframe tbody tr th:only-of-type {\n",
       "        vertical-align: middle;\n",
       "    }\n",
       "\n",
       "    .dataframe tbody tr th {\n",
       "        vertical-align: top;\n",
       "    }\n",
       "\n",
       "    .dataframe thead th {\n",
       "        text-align: right;\n",
       "    }\n",
       "</style>\n",
       "<table border=\"1\" class=\"dataframe\">\n",
       "  <thead>\n",
       "    <tr style=\"text-align: right;\">\n",
       "      <th></th>\n",
       "      <th>Date</th>\n",
       "      <th>Winner</th>\n",
       "      <th>Loser</th>\n",
       "      <th>Final Score</th>\n",
       "      <th>Box Score</th>\n",
       "    </tr>\n",
       "  </thead>\n",
       "  <tbody>\n",
       "    <tr>\n",
       "      <th>0</th>\n",
       "      <td>2020-3-10</td>\n",
       "      <td>Boston</td>\n",
       "      <td>Indiana</td>\n",
       "      <td>114 - 111</td>\n",
       "      <td>&lt;a href=\"https://www.basketball-reference.com/boxscores/202003100IND.html\" target=\"_blank\"&gt;Link&lt;/a&gt;</td>\n",
       "    </tr>\n",
       "    <tr>\n",
       "      <th>1</th>\n",
       "      <td>2020-3-8</td>\n",
       "      <td>Indiana</td>\n",
       "      <td>Dallas</td>\n",
       "      <td>112 - 109</td>\n",
       "      <td>&lt;a href=\"https://www.basketball-reference.com/boxscores/202003080DAL.html\" target=\"_blank\"&gt;Link&lt;/a&gt;</td>\n",
       "    </tr>\n",
       "    <tr>\n",
       "      <th>2</th>\n",
       "      <td>2020-3-6</td>\n",
       "      <td>Dallas</td>\n",
       "      <td>Memphis</td>\n",
       "      <td>121 - 96</td>\n",
       "      <td>&lt;a href=\"https://www.basketball-reference.com/boxscores/202003060DAL.html\" target=\"_blank\"&gt;Link&lt;/a&gt;</td>\n",
       "    </tr>\n",
       "    <tr>\n",
       "      <th>3</th>\n",
       "      <td>2020-3-4</td>\n",
       "      <td>Memphis</td>\n",
       "      <td>Brooklyn</td>\n",
       "      <td>118 - 79</td>\n",
       "      <td>&lt;a href=\"https://www.basketball-reference.com/boxscores/202003040BRK.html\" target=\"_blank\"&gt;Link&lt;/a&gt;</td>\n",
       "    </tr>\n",
       "    <tr>\n",
       "      <th>4</th>\n",
       "      <td>2020-3-2</td>\n",
       "      <td>Memphis</td>\n",
       "      <td>Atlanta</td>\n",
       "      <td>127 - 88</td>\n",
       "      <td>&lt;a href=\"https://www.basketball-reference.com/boxscores/202003020ATL.html\" target=\"_blank\"&gt;Link&lt;/a&gt;</td>\n",
       "    </tr>\n",
       "  </tbody>\n",
       "</table>\n",
       "</div>"
      ],
      "text/plain": [
       "        Date   Winner     Loser Final Score  \\\n",
       "0  2020-3-10   Boston   Indiana   114 - 111   \n",
       "1   2020-3-8  Indiana    Dallas   112 - 109   \n",
       "2   2020-3-6   Dallas   Memphis    121 - 96   \n",
       "3   2020-3-4  Memphis  Brooklyn    118 - 79   \n",
       "4   2020-3-2  Memphis   Atlanta    127 - 88   \n",
       "\n",
       "                                                                                             Box Score  \n",
       "0  <a href=\"https://www.basketball-reference.com/boxscores/202003100IND.html\" target=\"_blank\">Link</a>  \n",
       "1  <a href=\"https://www.basketball-reference.com/boxscores/202003080DAL.html\" target=\"_blank\">Link</a>  \n",
       "2  <a href=\"https://www.basketball-reference.com/boxscores/202003060DAL.html\" target=\"_blank\">Link</a>  \n",
       "3  <a href=\"https://www.basketball-reference.com/boxscores/202003040BRK.html\" target=\"_blank\">Link</a>  \n",
       "4  <a href=\"https://www.basketball-reference.com/boxscores/202003020ATL.html\" target=\"_blank\">Link</a>  "
      ]
     },
     "execution_count": 12,
     "metadata": {},
     "output_type": "execute_result"
    }
   ],
   "source": [
    "df.head()"
   ]
  },
  {
   "cell_type": "code",
   "execution_count": 10,
   "metadata": {},
   "outputs": [
    {
     "ename": "FileNotFoundError",
     "evalue": "File b'/data/scores.csv' does not exist",
     "output_type": "error",
     "traceback": [
      "\u001b[0;31m---------------------------------------------------------------------------\u001b[0m",
      "\u001b[0;31mFileNotFoundError\u001b[0m                         Traceback (most recent call last)",
      "\u001b[0;32m<ipython-input-10-64d88d00d7c9>\u001b[0m in \u001b[0;36m<module>\u001b[0;34m()\u001b[0m\n\u001b[0;32m----> 1\u001b[0;31m \u001b[0mdf\u001b[0m \u001b[0;34m=\u001b[0m \u001b[0mpd\u001b[0m\u001b[0;34m.\u001b[0m\u001b[0mread_csv\u001b[0m\u001b[0;34m(\u001b[0m\u001b[0;34m\"/data/scores.csv\"\u001b[0m\u001b[0;34m)\u001b[0m\u001b[0;34m\u001b[0m\u001b[0m\n\u001b[0m",
      "\u001b[0;32m/anaconda3/lib/python3.6/site-packages/pandas/io/parsers.py\u001b[0m in \u001b[0;36mparser_f\u001b[0;34m(filepath_or_buffer, sep, delimiter, header, names, index_col, usecols, squeeze, prefix, mangle_dupe_cols, dtype, engine, converters, true_values, false_values, skipinitialspace, skiprows, nrows, na_values, keep_default_na, na_filter, verbose, skip_blank_lines, parse_dates, infer_datetime_format, keep_date_col, date_parser, dayfirst, iterator, chunksize, compression, thousands, decimal, lineterminator, quotechar, quoting, escapechar, comment, encoding, dialect, tupleize_cols, error_bad_lines, warn_bad_lines, skipfooter, skip_footer, doublequote, delim_whitespace, as_recarray, compact_ints, use_unsigned, low_memory, buffer_lines, memory_map, float_precision)\u001b[0m\n\u001b[1;32m    707\u001b[0m                     skip_blank_lines=skip_blank_lines)\n\u001b[1;32m    708\u001b[0m \u001b[0;34m\u001b[0m\u001b[0m\n\u001b[0;32m--> 709\u001b[0;31m         \u001b[0;32mreturn\u001b[0m \u001b[0m_read\u001b[0m\u001b[0;34m(\u001b[0m\u001b[0mfilepath_or_buffer\u001b[0m\u001b[0;34m,\u001b[0m \u001b[0mkwds\u001b[0m\u001b[0;34m)\u001b[0m\u001b[0;34m\u001b[0m\u001b[0m\n\u001b[0m\u001b[1;32m    710\u001b[0m \u001b[0;34m\u001b[0m\u001b[0m\n\u001b[1;32m    711\u001b[0m     \u001b[0mparser_f\u001b[0m\u001b[0;34m.\u001b[0m\u001b[0m__name__\u001b[0m \u001b[0;34m=\u001b[0m \u001b[0mname\u001b[0m\u001b[0;34m\u001b[0m\u001b[0m\n",
      "\u001b[0;32m/anaconda3/lib/python3.6/site-packages/pandas/io/parsers.py\u001b[0m in \u001b[0;36m_read\u001b[0;34m(filepath_or_buffer, kwds)\u001b[0m\n\u001b[1;32m    447\u001b[0m \u001b[0;34m\u001b[0m\u001b[0m\n\u001b[1;32m    448\u001b[0m     \u001b[0;31m# Create the parser.\u001b[0m\u001b[0;34m\u001b[0m\u001b[0;34m\u001b[0m\u001b[0m\n\u001b[0;32m--> 449\u001b[0;31m     \u001b[0mparser\u001b[0m \u001b[0;34m=\u001b[0m \u001b[0mTextFileReader\u001b[0m\u001b[0;34m(\u001b[0m\u001b[0mfilepath_or_buffer\u001b[0m\u001b[0;34m,\u001b[0m \u001b[0;34m**\u001b[0m\u001b[0mkwds\u001b[0m\u001b[0;34m)\u001b[0m\u001b[0;34m\u001b[0m\u001b[0m\n\u001b[0m\u001b[1;32m    450\u001b[0m \u001b[0;34m\u001b[0m\u001b[0m\n\u001b[1;32m    451\u001b[0m     \u001b[0;32mif\u001b[0m \u001b[0mchunksize\u001b[0m \u001b[0;32mor\u001b[0m \u001b[0miterator\u001b[0m\u001b[0;34m:\u001b[0m\u001b[0;34m\u001b[0m\u001b[0m\n",
      "\u001b[0;32m/anaconda3/lib/python3.6/site-packages/pandas/io/parsers.py\u001b[0m in \u001b[0;36m__init__\u001b[0;34m(self, f, engine, **kwds)\u001b[0m\n\u001b[1;32m    816\u001b[0m             \u001b[0mself\u001b[0m\u001b[0;34m.\u001b[0m\u001b[0moptions\u001b[0m\u001b[0;34m[\u001b[0m\u001b[0;34m'has_index_names'\u001b[0m\u001b[0;34m]\u001b[0m \u001b[0;34m=\u001b[0m \u001b[0mkwds\u001b[0m\u001b[0;34m[\u001b[0m\u001b[0;34m'has_index_names'\u001b[0m\u001b[0;34m]\u001b[0m\u001b[0;34m\u001b[0m\u001b[0m\n\u001b[1;32m    817\u001b[0m \u001b[0;34m\u001b[0m\u001b[0m\n\u001b[0;32m--> 818\u001b[0;31m         \u001b[0mself\u001b[0m\u001b[0;34m.\u001b[0m\u001b[0m_make_engine\u001b[0m\u001b[0;34m(\u001b[0m\u001b[0mself\u001b[0m\u001b[0;34m.\u001b[0m\u001b[0mengine\u001b[0m\u001b[0;34m)\u001b[0m\u001b[0;34m\u001b[0m\u001b[0m\n\u001b[0m\u001b[1;32m    819\u001b[0m \u001b[0;34m\u001b[0m\u001b[0m\n\u001b[1;32m    820\u001b[0m     \u001b[0;32mdef\u001b[0m \u001b[0mclose\u001b[0m\u001b[0;34m(\u001b[0m\u001b[0mself\u001b[0m\u001b[0;34m)\u001b[0m\u001b[0;34m:\u001b[0m\u001b[0;34m\u001b[0m\u001b[0m\n",
      "\u001b[0;32m/anaconda3/lib/python3.6/site-packages/pandas/io/parsers.py\u001b[0m in \u001b[0;36m_make_engine\u001b[0;34m(self, engine)\u001b[0m\n\u001b[1;32m   1047\u001b[0m     \u001b[0;32mdef\u001b[0m \u001b[0m_make_engine\u001b[0m\u001b[0;34m(\u001b[0m\u001b[0mself\u001b[0m\u001b[0;34m,\u001b[0m \u001b[0mengine\u001b[0m\u001b[0;34m=\u001b[0m\u001b[0;34m'c'\u001b[0m\u001b[0;34m)\u001b[0m\u001b[0;34m:\u001b[0m\u001b[0;34m\u001b[0m\u001b[0m\n\u001b[1;32m   1048\u001b[0m         \u001b[0;32mif\u001b[0m \u001b[0mengine\u001b[0m \u001b[0;34m==\u001b[0m \u001b[0;34m'c'\u001b[0m\u001b[0;34m:\u001b[0m\u001b[0;34m\u001b[0m\u001b[0m\n\u001b[0;32m-> 1049\u001b[0;31m             \u001b[0mself\u001b[0m\u001b[0;34m.\u001b[0m\u001b[0m_engine\u001b[0m \u001b[0;34m=\u001b[0m \u001b[0mCParserWrapper\u001b[0m\u001b[0;34m(\u001b[0m\u001b[0mself\u001b[0m\u001b[0;34m.\u001b[0m\u001b[0mf\u001b[0m\u001b[0;34m,\u001b[0m \u001b[0;34m**\u001b[0m\u001b[0mself\u001b[0m\u001b[0;34m.\u001b[0m\u001b[0moptions\u001b[0m\u001b[0;34m)\u001b[0m\u001b[0;34m\u001b[0m\u001b[0m\n\u001b[0m\u001b[1;32m   1050\u001b[0m         \u001b[0;32melse\u001b[0m\u001b[0;34m:\u001b[0m\u001b[0;34m\u001b[0m\u001b[0m\n\u001b[1;32m   1051\u001b[0m             \u001b[0;32mif\u001b[0m \u001b[0mengine\u001b[0m \u001b[0;34m==\u001b[0m \u001b[0;34m'python'\u001b[0m\u001b[0;34m:\u001b[0m\u001b[0;34m\u001b[0m\u001b[0m\n",
      "\u001b[0;32m/anaconda3/lib/python3.6/site-packages/pandas/io/parsers.py\u001b[0m in \u001b[0;36m__init__\u001b[0;34m(self, src, **kwds)\u001b[0m\n\u001b[1;32m   1693\u001b[0m         \u001b[0mkwds\u001b[0m\u001b[0;34m[\u001b[0m\u001b[0;34m'allow_leading_cols'\u001b[0m\u001b[0;34m]\u001b[0m \u001b[0;34m=\u001b[0m \u001b[0mself\u001b[0m\u001b[0;34m.\u001b[0m\u001b[0mindex_col\u001b[0m \u001b[0;32mis\u001b[0m \u001b[0;32mnot\u001b[0m \u001b[0;32mFalse\u001b[0m\u001b[0;34m\u001b[0m\u001b[0m\n\u001b[1;32m   1694\u001b[0m \u001b[0;34m\u001b[0m\u001b[0m\n\u001b[0;32m-> 1695\u001b[0;31m         \u001b[0mself\u001b[0m\u001b[0;34m.\u001b[0m\u001b[0m_reader\u001b[0m \u001b[0;34m=\u001b[0m \u001b[0mparsers\u001b[0m\u001b[0;34m.\u001b[0m\u001b[0mTextReader\u001b[0m\u001b[0;34m(\u001b[0m\u001b[0msrc\u001b[0m\u001b[0;34m,\u001b[0m \u001b[0;34m**\u001b[0m\u001b[0mkwds\u001b[0m\u001b[0;34m)\u001b[0m\u001b[0;34m\u001b[0m\u001b[0m\n\u001b[0m\u001b[1;32m   1696\u001b[0m \u001b[0;34m\u001b[0m\u001b[0m\n\u001b[1;32m   1697\u001b[0m         \u001b[0;31m# XXX\u001b[0m\u001b[0;34m\u001b[0m\u001b[0;34m\u001b[0m\u001b[0m\n",
      "\u001b[0;32mpandas/_libs/parsers.pyx\u001b[0m in \u001b[0;36mpandas._libs.parsers.TextReader.__cinit__\u001b[0;34m()\u001b[0m\n",
      "\u001b[0;32mpandas/_libs/parsers.pyx\u001b[0m in \u001b[0;36mpandas._libs.parsers.TextReader._setup_parser_source\u001b[0;34m()\u001b[0m\n",
      "\u001b[0;31mFileNotFoundError\u001b[0m: File b'/data/scores.csv' does not exist"
     ]
    }
   ],
   "source": [
    "df = pd.read_csv(\"/data/scores.csv\")"
   ]
  },
  {
   "cell_type": "code",
   "execution_count": 15,
   "metadata": {},
   "outputs": [],
   "source": [
    "soup = BeautifulSoup('',\"html.parser\")\n",
    "belt_holder = df['Winner'][0]\n",
    "src = 'logos/' + belt_holder + '.png'\n",
    "img_tag = soup.new_tag('img', src=src)"
   ]
  },
  {
   "cell_type": "code",
   "execution_count": 16,
   "metadata": {},
   "outputs": [
    {
     "data": {
      "text/plain": [
       "'logos/Boston.png'"
      ]
     },
     "execution_count": 16,
     "metadata": {},
     "output_type": "execute_result"
    }
   ],
   "source": [
    "src"
   ]
  },
  {
   "cell_type": "code",
   "execution_count": 17,
   "metadata": {},
   "outputs": [
    {
     "data": {
      "text/plain": [
       "<img src=\"logos/Boston.png\"/>"
      ]
     },
     "execution_count": 17,
     "metadata": {},
     "output_type": "execute_result"
    }
   ],
   "source": [
    "img_tag"
   ]
  },
  {
   "cell_type": "code",
   "execution_count": null,
   "metadata": {},
   "outputs": [],
   "source": []
  }
 ],
 "metadata": {
  "kernelspec": {
   "display_name": "Python 3",
   "language": "python",
   "name": "python3"
  },
  "language_info": {
   "codemirror_mode": {
    "name": "ipython",
    "version": 3
   },
   "file_extension": ".py",
   "mimetype": "text/x-python",
   "name": "python",
   "nbconvert_exporter": "python",
   "pygments_lexer": "ipython3",
   "version": "3.6.4"
  }
 },
 "nbformat": 4,
 "nbformat_minor": 2
}

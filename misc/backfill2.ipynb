{
 "cells": [
  {
   "cell_type": "code",
   "execution_count": 1,
   "metadata": {},
   "outputs": [],
   "source": [
    "import numpy as np\n",
    "import pandas as pd\n",
    "from bs4 import BeautifulSoup, SoupStrainer\n",
    "import sys\n",
    "import string\n",
    "import requests\n",
    "import datetime\n",
    "from datetime import timedelta\n",
    "import time\n",
    "import os.path\n",
    "from os import path"
   ]
  },
  {
   "cell_type": "code",
   "execution_count": 2,
   "metadata": {},
   "outputs": [],
   "source": [
    "first_game = datetime.datetime.strptime('2019-10-22', \"%Y-%m-%d\")\n",
    "last_game = datetime.datetime.strptime('2020-04-15', \"%Y-%m-%d\")\n",
    "winning_team = 'Toronto'\n",
    "pd.options.display.max_colwidth = 100"
   ]
  },
  {
   "cell_type": "code",
   "execution_count": 82,
   "metadata": {},
   "outputs": [],
   "source": [
    "def convert_link(str):\n",
    "    soup = BeautifulSoup('',\"html.parser\")\n",
    "    new_link = soup.new_tag('a', href=str, target='_blank')\n",
    "    new_link.string=\"Link\"\n",
    "    return(new_link)\n",
    "\n",
    "\n",
    "## web scraping\n",
    "def soup(game_date=None, df=None, winning_team=str):\n",
    "    while game_date < datetime.datetime.now() and datetime.datetime.now() <= last_game:\n",
    "        d = game_date.day\n",
    "        m = game_date.month\n",
    "        y = game_date.year\n",
    "        date_str = str(y) + '-' + str(m) + '-' + str(d)\n",
    "\n",
    "        base_url = 'http://basketball-reference.com/boxscores/index.fcgi?month=' + str(m) + '&day=' +str(d)+'&year=' + str(y)\n",
    "        page_response = requests.get(base_url, timeout=5)\n",
    "        page_content = BeautifulSoup(page_response.content, \"html.parser\")\n",
    "\n",
    "\n",
    "        scores = page_content.find_all('table', {'class': 'teams'}) ## gets each box score, puts it into list\n",
    "\n",
    "        for games in scores: ## loop through them and check which box score contains the winner\n",
    "            if winning_team in str(games):\n",
    "                data = []\n",
    "                champ_score = games\n",
    "\n",
    "                winner = champ_score.find('tr', {'class':'winner'}) ## find row that has the winner\n",
    "                winning_team = winner.find('a').string ## winning team name\n",
    "                winning_score = winner.find('td', {'class':'right'}).string ## winning team score\n",
    "\n",
    "                loser = champ_score.find('tr', {'class':'loser'}) ## find row that has the loser\n",
    "                losing_team = loser.find('a').string ## losing team name\n",
    "                losing_score = loser.find('td', {'class':'right'}).string ## losing team score\n",
    "\n",
    "                final_score = winning_score + \" - \" + losing_score\n",
    "\n",
    "                box_score_td = champ_score.find('td', {'class':['gamelink']}) ## find the box score link\n",
    "                href = box_score_td.find('a')['href'] ## get the href from the anchor tag\n",
    "                box_score_url = 'https://www.basketball-reference.com' + href\n",
    "                box_score_url = convert_link(box_score_url)\n",
    "                # box_score_url ='<a href=\"https://www.basketball-reference.com' + href + '\">' + 'Link</a>'\n",
    "\n",
    "\n",
    "                data.insert(0, {'Date': date_str,\n",
    "                                'Winner': winning_team,\n",
    "                                'Loser': losing_team,\n",
    "                                'Final Score': final_score,\n",
    "                                'Box Score': box_score_url})\n",
    "                df = pd.concat([pd.DataFrame(data), df], ignore_index=True)\n",
    "                break\n",
    "            else:\n",
    "                continue\n",
    "\n",
    "        game_date = game_date + timedelta(days=1)\n",
    "\n",
    "    columns = ['Date','Winner', 'Loser', 'Final Score', 'Box Score']\n",
    "    df = df[columns] # reorder columns\n",
    "    # df = df.set_index('date') # set index to date\n",
    "    return(df)\n"
   ]
  },
  {
   "cell_type": "code",
   "execution_count": 28,
   "metadata": {},
   "outputs": [],
   "source": [
    "def backfill():\n",
    "    columns = ['Date','Winner', 'Loser', 'Final Score', 'Box Score'] ## create new dataFrame\n",
    "    new_df = pd.DataFrame(columns = columns)\n",
    "\n",
    "    df = soup(first_game, new_df, winning_team=winning_team)\n",
    "    return(df)"
   ]
  },
  {
   "cell_type": "code",
   "execution_count": 5,
   "metadata": {},
   "outputs": [],
   "source": [
    "def update():\n",
    "    df = pd.read_csv(\"data/scores.csv\")\n",
    "    max_date = df['date'][0]\n",
    "    max_date = datetime.datetime.strptime(max_date, \"%Y-%m-%d\")\n",
    "    max_date = max_date + timedelta(days=1)\n",
    "    winner = df['Winner'][0]\n",
    "\n",
    "    df = soup(max_date, df, winner)\n",
    "    return(df)"
   ]
  },
  {
   "cell_type": "code",
   "execution_count": 86,
   "metadata": {},
   "outputs": [],
   "source": [
    "def write_html(df=None):\n",
    "    print('Writing HTML file.')\n",
    "    html = df.to_html(escape=False)\n",
    "    html_file= open(\"data/game_data.html\",\"w\")\n",
    "    html_file.write(html)\n",
    "    html_file.close()"
   ]
  },
  {
   "cell_type": "code",
   "execution_count": 12,
   "metadata": {},
   "outputs": [
    {
     "name": "stdout",
     "output_type": "stream",
     "text": [
      "Creating dataframe from scratch\n"
     ]
    }
   ],
   "source": [
    "if path.exists('data/scores.csv') == True:\n",
    "    print(\"Updating existing CSV\")\n",
    "#     df = update()\n",
    "else:\n",
    "    print(\"Creating dataframe from scratch\")\n",
    "#     df = backfill()"
   ]
  },
  {
   "cell_type": "code",
   "execution_count": 38,
   "metadata": {},
   "outputs": [],
   "source": [
    "winner_count = df.groupby('Winner').count()[['Final Score']] ## get count of each games won while holding belt\n"
   ]
  },
  {
   "cell_type": "code",
   "execution_count": 34,
   "metadata": {},
   "outputs": [],
   "source": [
    "def write_winner():\n",
    "    belt_holder = df['Winner'][0]\n",
    "    if belt_holder == 'Atlanta':\n",
    "        belt_holder = 'Atlanta Hawks'\n",
    "    elif belt_holder == 'Boston':\n",
    "        belt_holder = 'Boston Celtics'\n",
    "    elif belt_holder == 'Brooklyn':\n",
    "        belt_holder = 'Brooklyn Nets'\n",
    "    elif belt_holder == 'Charlotte':\n",
    "        belt_holder = 'Charlotte Hornets'\n",
    "    elif belt_holder == 'Chicago':\n",
    "        belt_holder = 'Chicago Bulls'\n",
    "    elif belt_holder == 'Cleveland':\n",
    "        belt_holder = 'Cleveland Cavaliers'\n",
    "    elif belt_holder == 'Dallas':\n",
    "        belt_holder = 'Dallas Mavericks'\n",
    "    elif belt_holder == 'Denver':\n",
    "        belt_holder = 'Denver Nuggets'\n",
    "    elif belt_holder == 'Detroit':\n",
    "        belt_holder = 'Detroit Pistons'\n",
    "    elif belt_holder == 'Golden State':\n",
    "        belt_holder = 'Golden State Warriors'\n",
    "    elif belt_holder == 'Houston':\n",
    "        belt_holder = 'Houston Rockets'\n",
    "    elif belt_holder == 'Indiana':\n",
    "        belt_holder = 'Indiana Pacers'\n",
    "    elif belt_holder == 'LA Clippers':\n",
    "        belt_holder = 'Los Angeles Clippers'\n",
    "    elif belt_holder == 'LA Lakers':\n",
    "        belt_holder = 'Los Angeles Lakers'\n",
    "    elif belt_holder == 'Memphis':\n",
    "        belt_holder = 'Memphis Grizzlies'\n",
    "    elif belt_holder == 'Miami':\n",
    "        belt_holder = 'Miami Heat'\n",
    "    elif belt_holder == 'Milwaukee':\n",
    "        belt_holder = 'Milwaukee Bucks'\n",
    "    elif belt_holder == 'Minnesota':\n",
    "        belt_holder = 'Minnesota Timberwolves'\n",
    "    elif belt_holder == 'New Orleans':\n",
    "        belt_holder = 'New Orleans Pelicans'\n",
    "    elif belt_holder == 'New York':\n",
    "        belt_holder = 'New York Knicks'\n",
    "    elif belt_holder == 'Oklahoma City':\n",
    "        belt_holder = 'Oklahoma City Thunder'\n",
    "    elif belt_holder == 'Orlando':\n",
    "        belt_holder = 'Orlando Magic'\n",
    "    elif belt_holder == 'Philadelphia':\n",
    "        belt_holder = 'Philadelphia Sixers'\n",
    "    elif belt_holder == 'Phoenix':\n",
    "        belt_holder = 'Phoenix Suns'\n",
    "    elif belt_holder == 'Portland':\n",
    "        belt_holder = 'Portland Trail Blazers'\n",
    "    elif belt_holder == 'Sacramento':\n",
    "        belt_holder = 'Sacramento Kings'\n",
    "    elif belt_holder == 'San Antonio':\n",
    "        belt_holder = 'San Antonio Spurs'\n",
    "    elif belt_holder == 'Toronto':\n",
    "        belt_holder = 'Toronto Raptors'\n",
    "    elif belt_holder == 'Utah':\n",
    "        belt_holder = 'Utah Jazz'\n",
    "    elif belt_holder == 'Washington':\n",
    "        belt_holder = 'Washington Wizards'\n",
    "    else:\n",
    "        belt_holder = belt_holder\n",
    "    return(belt_holder)"
   ]
  },
  {
   "cell_type": "code",
   "execution_count": 36,
   "metadata": {},
   "outputs": [
    {
     "data": {
      "text/plain": [
       "'Boston Celtics'"
      ]
     },
     "execution_count": 36,
     "metadata": {},
     "output_type": "execute_result"
    }
   ],
   "source": [
    "belt_holder = write_winner()\n",
    "belt_holder"
   ]
  },
  {
   "cell_type": "code",
   "execution_count": 50,
   "metadata": {},
   "outputs": [],
   "source": [
    "href='/boxscores/201910220TOR.html'\n",
    "anchor_tag =\"https://www.basketball-reference.com'\" + href"
   ]
  },
  {
   "cell_type": "code",
   "execution_count": 51,
   "metadata": {},
   "outputs": [
    {
     "data": {
      "text/plain": [
       "\"https://www.basketball-reference.com'/boxscores/201910220TOR.html\""
      ]
     },
     "execution_count": 51,
     "metadata": {},
     "output_type": "execute_result"
    }
   ],
   "source": [
    "anchor_tag"
   ]
  },
  {
   "cell_type": "code",
   "execution_count": 49,
   "metadata": {},
   "outputs": [
    {
     "ename": "AttributeError",
     "evalue": "'str' object has no attribute 'to_html'",
     "output_type": "error",
     "traceback": [
      "\u001b[0;31m---------------------------------------------------------------------------\u001b[0m",
      "\u001b[0;31mAttributeError\u001b[0m                            Traceback (most recent call last)",
      "\u001b[0;32m<ipython-input-49-748ee84c9b9f>\u001b[0m in \u001b[0;36m<module>\u001b[0;34m()\u001b[0m\n\u001b[0;32m----> 1\u001b[0;31m \u001b[0manchor_tag\u001b[0m\u001b[0;34m.\u001b[0m\u001b[0mto_html\u001b[0m\u001b[0;34m(\u001b[0m\u001b[0;34m)\u001b[0m\u001b[0;34m\u001b[0m\u001b[0m\n\u001b[0m",
      "\u001b[0;31mAttributeError\u001b[0m: 'str' object has no attribute 'to_html'"
     ]
    }
   ],
   "source": [
    "anchor_tag.to_html()"
   ]
  },
  {
   "cell_type": "code",
   "execution_count": 83,
   "metadata": {},
   "outputs": [],
   "source": [
    "df = backfill()"
   ]
  },
  {
   "cell_type": "code",
   "execution_count": 78,
   "metadata": {},
   "outputs": [],
   "source": [
    "new_link = convert_link(anchor_tag)"
   ]
  },
  {
   "cell_type": "code",
   "execution_count": 85,
   "metadata": {},
   "outputs": [
    {
     "data": {
      "text/plain": [
       "bs4.element.Tag"
      ]
     },
     "execution_count": 85,
     "metadata": {},
     "output_type": "execute_result"
    }
   ],
   "source": [
    "type(df['Box Score'][0])"
   ]
  },
  {
   "cell_type": "code",
   "execution_count": 84,
   "metadata": {},
   "outputs": [
    {
     "data": {
      "text/html": [
       "<div>\n",
       "<style scoped>\n",
       "    .dataframe tbody tr th:only-of-type {\n",
       "        vertical-align: middle;\n",
       "    }\n",
       "\n",
       "    .dataframe tbody tr th {\n",
       "        vertical-align: top;\n",
       "    }\n",
       "\n",
       "    .dataframe thead th {\n",
       "        text-align: right;\n",
       "    }\n",
       "</style>\n",
       "<table border=\"1\" class=\"dataframe\">\n",
       "  <thead>\n",
       "    <tr style=\"text-align: right;\">\n",
       "      <th></th>\n",
       "      <th>Date</th>\n",
       "      <th>Winner</th>\n",
       "      <th>Loser</th>\n",
       "      <th>Final Score</th>\n",
       "      <th>Box Score</th>\n",
       "    </tr>\n",
       "  </thead>\n",
       "  <tbody>\n",
       "    <tr>\n",
       "      <th>0</th>\n",
       "      <td>2020-3-10</td>\n",
       "      <td>Boston</td>\n",
       "      <td>Indiana</td>\n",
       "      <td>114 - 111</td>\n",
       "      <td>&lt;a href=\"https://www.basketball-reference.com/boxscores/202003100IND.html\" target=\"_blank\"&gt;Link&lt;/a&gt;</td>\n",
       "    </tr>\n",
       "    <tr>\n",
       "      <th>1</th>\n",
       "      <td>2020-3-8</td>\n",
       "      <td>Indiana</td>\n",
       "      <td>Dallas</td>\n",
       "      <td>112 - 109</td>\n",
       "      <td>&lt;a href=\"https://www.basketball-reference.com/boxscores/202003080DAL.html\" target=\"_blank\"&gt;Link&lt;/a&gt;</td>\n",
       "    </tr>\n",
       "    <tr>\n",
       "      <th>2</th>\n",
       "      <td>2020-3-6</td>\n",
       "      <td>Dallas</td>\n",
       "      <td>Memphis</td>\n",
       "      <td>121 - 96</td>\n",
       "      <td>&lt;a href=\"https://www.basketball-reference.com/boxscores/202003060DAL.html\" target=\"_blank\"&gt;Link&lt;/a&gt;</td>\n",
       "    </tr>\n",
       "    <tr>\n",
       "      <th>3</th>\n",
       "      <td>2020-3-4</td>\n",
       "      <td>Memphis</td>\n",
       "      <td>Brooklyn</td>\n",
       "      <td>118 - 79</td>\n",
       "      <td>&lt;a href=\"https://www.basketball-reference.com/boxscores/202003040BRK.html\" target=\"_blank\"&gt;Link&lt;/a&gt;</td>\n",
       "    </tr>\n",
       "    <tr>\n",
       "      <th>4</th>\n",
       "      <td>2020-3-2</td>\n",
       "      <td>Memphis</td>\n",
       "      <td>Atlanta</td>\n",
       "      <td>127 - 88</td>\n",
       "      <td>&lt;a href=\"https://www.basketball-reference.com/boxscores/202003020ATL.html\" target=\"_blank\"&gt;Link&lt;/a&gt;</td>\n",
       "    </tr>\n",
       "  </tbody>\n",
       "</table>\n",
       "</div>"
      ],
      "text/plain": [
       "        Date   Winner     Loser Final Score  \\\n",
       "0  2020-3-10   Boston   Indiana   114 - 111   \n",
       "1   2020-3-8  Indiana    Dallas   112 - 109   \n",
       "2   2020-3-6   Dallas   Memphis    121 - 96   \n",
       "3   2020-3-4  Memphis  Brooklyn    118 - 79   \n",
       "4   2020-3-2  Memphis   Atlanta    127 - 88   \n",
       "\n",
       "                                                                                             Box Score  \n",
       "0  <a href=\"https://www.basketball-reference.com/boxscores/202003100IND.html\" target=\"_blank\">Link</a>  \n",
       "1  <a href=\"https://www.basketball-reference.com/boxscores/202003080DAL.html\" target=\"_blank\">Link</a>  \n",
       "2  <a href=\"https://www.basketball-reference.com/boxscores/202003060DAL.html\" target=\"_blank\">Link</a>  \n",
       "3  <a href=\"https://www.basketball-reference.com/boxscores/202003040BRK.html\" target=\"_blank\">Link</a>  \n",
       "4  <a href=\"https://www.basketball-reference.com/boxscores/202003020ATL.html\" target=\"_blank\">Link</a>  "
      ]
     },
     "execution_count": 84,
     "metadata": {},
     "output_type": "execute_result"
    }
   ],
   "source": [
    "df.head()"
   ]
  },
  {
   "cell_type": "code",
   "execution_count": 81,
   "metadata": {},
   "outputs": [
    {
     "data": {
      "text/plain": [
       "<a href=\"https://www.basketball-reference.com'/boxscores/201910220TOR.html\" target=\"_blank\">Link</a>"
      ]
     },
     "execution_count": 81,
     "metadata": {},
     "output_type": "execute_result"
    }
   ],
   "source": [
    "type(df9)"
   ]
  },
  {
   "cell_type": "code",
   "execution_count": 90,
   "metadata": {},
   "outputs": [],
   "source": [
    "html = df.to_html(escape=False, index=False)"
   ]
  },
  {
   "cell_type": "code",
   "execution_count": 91,
   "metadata": {},
   "outputs": [
    {
     "data": {
      "text/plain": [
       "'<table border=\"1\" class=\"dataframe\">\\n  <thead>\\n    <tr style=\"text-align: right;\">\\n      <th>Date</th>\\n      <th>Winner</th>\\n      <th>Loser</th>\\n      <th>Final Score</th>\\n      <th>Box Score</th>\\n    </tr>\\n  </thead>\\n  <tbody>\\n    <tr>\\n      <td>2020-3-10</td>\\n      <td>Boston</td>\\n      <td>Indiana</td>\\n      <td>114 - 111</td>\\n      <td><a href=\"https://www.basketball-reference.com/boxscores/202003100IND.html\" target=\"_blank\">Link</a></td>\\n    </tr>\\n    <tr>\\n      <td>2020-3-8</td>\\n      <td>Indiana</td>\\n      <td>Dallas</td>\\n      <td>112 - 109</td>\\n      <td><a href=\"https://www.basketball-reference.com/boxscores/202003080DAL.html\" target=\"_blank\">Link</a></td>\\n    </tr>\\n    <tr>\\n      <td>2020-3-6</td>\\n      <td>Dallas</td>\\n      <td>Memphis</td>\\n      <td>121 - 96</td>\\n      <td><a href=\"https://www.basketball-reference.com/boxscores/202003060DAL.html\" target=\"_blank\">Link</a></td>\\n    </tr>\\n    <tr>\\n      <td>2020-3-4</td>\\n      <td>Memphis</td>\\n      <td>Brooklyn</td>\\n      <td>118 - 79</td>\\n      <td><a href=\"https://www.basketball-reference.com/boxscores/202003040BRK.html\" target=\"_blank\">Link</a></td>\\n    </tr>\\n    <tr>\\n      <td>2020-3-2</td>\\n      <td>Memphis</td>\\n      <td>Atlanta</td>\\n      <td>127 - 88</td>\\n      <td><a href=\"https://www.basketball-reference.com/boxscores/202003020ATL.html\" target=\"_blank\">Link</a></td>\\n    </tr>\\n    <tr>\\n      <td>2020-2-29</td>\\n      <td>Memphis</td>\\n      <td>LA Lakers</td>\\n      <td>105 - 88</td>\\n      <td><a href=\"https://www.basketball-reference.com/boxscores/202002290MEM.html\" target=\"_blank\">Link</a></td>\\n    </tr>\\n    <tr>\\n      <td>2020-2-27</td>\\n      <td>LA Lakers</td>\\n      <td>Golden State</td>\\n      <td>116 - 86</td>\\n      <td><a href=\"https://www.basketball-reference.com/boxscores/202002270GSW.html\" target=\"_blank\">Link</a></td>\\n    </tr>\\n    <tr>\\n      <td>2020-2-25</td>\\n      <td>LA Lakers</td>\\n      <td>New Orleans</td>\\n      <td>118 - 109</td>\\n      <td><a href=\"https://www.basketball-reference.com/boxscores/202002250LAL.html\" target=\"_blank\">Link</a></td>\\n    </tr>\\n    <tr>\\n      <td>2020-2-23</td>\\n      <td>LA Lakers</td>\\n      <td>Boston</td>\\n      <td>114 - 112</td>\\n      <td><a href=\"https://www.basketball-reference.com/boxscores/202002230LAL.html\" target=\"_blank\">Link</a></td>\\n    </tr>\\n    <tr>\\n      <td>2020-2-21</td>\\n      <td>LA Lakers</td>\\n      <td>Memphis</td>\\n      <td>117 - 105</td>\\n      <td><a href=\"https://www.basketball-reference.com/boxscores/202002210LAL.html\" target=\"_blank\">Link</a></td>\\n    </tr>\\n    <tr>\\n      <td>2020-2-12</td>\\n      <td>LA Lakers</td>\\n      <td>Denver</td>\\n      <td>120 - 116</td>\\n      <td><a href=\"https://www.basketball-reference.com/boxscores/202002120DEN.html\" target=\"_blank\">Link</a></td>\\n    </tr>\\n    <tr>\\n      <td>2020-2-10</td>\\n      <td>Denver</td>\\n      <td>San Antonio</td>\\n      <td>127 - 120</td>\\n      <td><a href=\"https://www.basketball-reference.com/boxscores/202002100DEN.html\" target=\"_blank\">Link</a></td>\\n    </tr>\\n    <tr>\\n      <td>2020-2-8</td>\\n      <td>Denver</td>\\n      <td>Phoenix</td>\\n      <td>117 - 108</td>\\n      <td><a href=\"https://www.basketball-reference.com/boxscores/202002080PHO.html\" target=\"_blank\">Link</a></td>\\n    </tr>\\n    <tr>\\n      <td>2020-2-7</td>\\n      <td>Phoenix</td>\\n      <td>Houston</td>\\n      <td>127 - 91</td>\\n      <td><a href=\"https://www.basketball-reference.com/boxscores/202002070PHO.html\" target=\"_blank\">Link</a></td>\\n    </tr>\\n    <tr>\\n      <td>2020-2-6</td>\\n      <td>Houston</td>\\n      <td>LA Lakers</td>\\n      <td>121 - 111</td>\\n      <td><a href=\"https://www.basketball-reference.com/boxscores/202002060LAL.html\" target=\"_blank\">Link</a></td>\\n    </tr>\\n    <tr>\\n      <td>2020-2-4</td>\\n      <td>Houston</td>\\n      <td>Charlotte</td>\\n      <td>125 - 110</td>\\n      <td><a href=\"https://www.basketball-reference.com/boxscores/202002040HOU.html\" target=\"_blank\">Link</a></td>\\n    </tr>\\n    <tr>\\n      <td>2020-2-2</td>\\n      <td>Houston</td>\\n      <td>New Orleans</td>\\n      <td>117 - 109</td>\\n      <td><a href=\"https://www.basketball-reference.com/boxscores/202002020HOU.html\" target=\"_blank\">Link</a></td>\\n    </tr>\\n    <tr>\\n      <td>2020-1-31</td>\\n      <td>New Orleans</td>\\n      <td>Memphis</td>\\n      <td>139 - 111</td>\\n      <td><a href=\"https://www.basketball-reference.com/boxscores/202001310NOP.html\" target=\"_blank\">Link</a></td>\\n    </tr>\\n    <tr>\\n      <td>2020-1-29</td>\\n      <td>Memphis</td>\\n      <td>New York</td>\\n      <td>127 - 106</td>\\n      <td><a href=\"https://www.basketball-reference.com/boxscores/202001290NYK.html\" target=\"_blank\">Link</a></td>\\n    </tr>\\n    <tr>\\n      <td>2020-1-28</td>\\n      <td>Memphis</td>\\n      <td>Denver</td>\\n      <td>104 - 96</td>\\n      <td><a href=\"https://www.basketball-reference.com/boxscores/202001280MEM.html\" target=\"_blank\">Link</a></td>\\n    </tr>\\n    <tr>\\n      <td>2020-1-26</td>\\n      <td>Memphis</td>\\n      <td>Phoenix</td>\\n      <td>114 - 109</td>\\n      <td><a href=\"https://www.basketball-reference.com/boxscores/202001260MEM.html\" target=\"_blank\">Link</a></td>\\n    </tr>\\n    <tr>\\n      <td>2020-1-24</td>\\n      <td>Phoenix</td>\\n      <td>San Antonio</td>\\n      <td>103 - 99</td>\\n      <td><a href=\"https://www.basketball-reference.com/boxscores/202001240SAS.html\" target=\"_blank\">Link</a></td>\\n    </tr>\\n    <tr>\\n      <td>2020-1-22</td>\\n      <td>San Antonio</td>\\n      <td>New Orleans</td>\\n      <td>121 - 117</td>\\n      <td><a href=\"https://www.basketball-reference.com/boxscores/202001220NOP.html\" target=\"_blank\">Link</a></td>\\n    </tr>\\n    <tr>\\n      <td>2020-1-20</td>\\n      <td>New Orleans</td>\\n      <td>Memphis</td>\\n      <td>126 - 116</td>\\n      <td><a href=\"https://www.basketball-reference.com/boxscores/202001200MEM.html\" target=\"_blank\">Link</a></td>\\n    </tr>\\n    <tr>\\n      <td>2020-1-17</td>\\n      <td>Memphis</td>\\n      <td>Cleveland</td>\\n      <td>113 - 109</td>\\n      <td><a href=\"https://www.basketball-reference.com/boxscores/202001170MEM.html\" target=\"_blank\">Link</a></td>\\n    </tr>\\n    <tr>\\n      <td>2020-1-14</td>\\n      <td>Memphis</td>\\n      <td>Houston</td>\\n      <td>121 - 110</td>\\n      <td><a href=\"https://www.basketball-reference.com/boxscores/202001140MEM.html\" target=\"_blank\">Link</a></td>\\n    </tr>\\n    <tr>\\n      <td>2020-1-12</td>\\n      <td>Memphis</td>\\n      <td>Golden State</td>\\n      <td>122 - 102</td>\\n      <td><a href=\"https://www.basketball-reference.com/boxscores/202001120MEM.html\" target=\"_blank\">Link</a></td>\\n    </tr>\\n    <tr>\\n      <td>2020-1-10</td>\\n      <td>Memphis</td>\\n      <td>San Antonio</td>\\n      <td>134 - 121</td>\\n      <td><a href=\"https://www.basketball-reference.com/boxscores/202001100MEM.html\" target=\"_blank\">Link</a></td>\\n    </tr>\\n    <tr>\\n      <td>2020-1-8</td>\\n      <td>San Antonio</td>\\n      <td>Boston</td>\\n      <td>129 - 114</td>\\n      <td><a href=\"https://www.basketball-reference.com/boxscores/202001080BOS.html\" target=\"_blank\">Link</a></td>\\n    </tr>\\n    <tr>\\n      <td>2020-1-6</td>\\n      <td>San Antonio</td>\\n      <td>Milwaukee</td>\\n      <td>126 - 104</td>\\n      <td><a href=\"https://www.basketball-reference.com/boxscores/202001060SAS.html\" target=\"_blank\">Link</a></td>\\n    </tr>\\n    <tr>\\n      <td>2020-1-4</td>\\n      <td>Milwaukee</td>\\n      <td>San Antonio</td>\\n      <td>127 - 118</td>\\n      <td><a href=\"https://www.basketball-reference.com/boxscores/202001040MIL.html\" target=\"_blank\">Link</a></td>\\n    </tr>\\n    <tr>\\n      <td>2020-1-1</td>\\n      <td>Milwaukee</td>\\n      <td>Minnesota</td>\\n      <td>106 - 104</td>\\n      <td><a href=\"https://www.basketball-reference.com/boxscores/202001010MIL.html\" target=\"_blank\">Link</a></td>\\n    </tr>\\n    <tr>\\n      <td>2019-12-30</td>\\n      <td>Milwaukee</td>\\n      <td>Chicago</td>\\n      <td>123 - 102</td>\\n      <td><a href=\"https://www.basketball-reference.com/boxscores/201912300CHI.html\" target=\"_blank\">Link</a></td>\\n    </tr>\\n    <tr>\\n      <td>2019-12-28</td>\\n      <td>Milwaukee</td>\\n      <td>Orlando</td>\\n      <td>111 - 100</td>\\n      <td><a href=\"https://www.basketball-reference.com/boxscores/201912280MIL.html\" target=\"_blank\">Link</a></td>\\n    </tr>\\n    <tr>\\n      <td>2019-12-27</td>\\n      <td>Orlando</td>\\n      <td>Philadelphia</td>\\n      <td>98 - 97</td>\\n      <td><a href=\"https://www.basketball-reference.com/boxscores/201912270ORL.html\" target=\"_blank\">Link</a></td>\\n    </tr>\\n    <tr>\\n      <td>2019-12-25</td>\\n      <td>Philadelphia</td>\\n      <td>Milwaukee</td>\\n      <td>121 - 109</td>\\n      <td><a href=\"https://www.basketball-reference.com/boxscores/201912250PHI.html\" target=\"_blank\">Link</a></td>\\n    </tr>\\n    <tr>\\n      <td>2019-12-22</td>\\n      <td>Milwaukee</td>\\n      <td>Indiana</td>\\n      <td>117 - 89</td>\\n      <td><a href=\"https://www.basketball-reference.com/boxscores/201912220MIL.html\" target=\"_blank\">Link</a></td>\\n    </tr>\\n    <tr>\\n      <td>2019-12-20</td>\\n      <td>Indiana</td>\\n      <td>Sacramento</td>\\n      <td>119 - 105</td>\\n      <td><a href=\"https://www.basketball-reference.com/boxscores/201912200IND.html\" target=\"_blank\">Link</a></td>\\n    </tr>\\n    <tr>\\n      <td>2019-12-17</td>\\n      <td>Indiana</td>\\n      <td>LA Lakers</td>\\n      <td>105 - 102</td>\\n      <td><a href=\"https://www.basketball-reference.com/boxscores/201912170IND.html\" target=\"_blank\">Link</a></td>\\n    </tr>\\n    <tr>\\n      <td>2019-12-15</td>\\n      <td>Indiana</td>\\n      <td>Charlotte</td>\\n      <td>107 - 85</td>\\n      <td><a href=\"https://www.basketball-reference.com/boxscores/201912150IND.html\" target=\"_blank\">Link</a></td>\\n    </tr>\\n    <tr>\\n      <td>2019-12-13</td>\\n      <td>Indiana</td>\\n      <td>Atlanta</td>\\n      <td>110 - 100</td>\\n      <td><a href=\"https://www.basketball-reference.com/boxscores/201912130ATL.html\" target=\"_blank\">Link</a></td>\\n    </tr>\\n    <tr>\\n      <td>2019-12-11</td>\\n      <td>Indiana</td>\\n      <td>Boston</td>\\n      <td>122 - 117</td>\\n      <td><a href=\"https://www.basketball-reference.com/boxscores/201912110IND.html\" target=\"_blank\">Link</a></td>\\n    </tr>\\n    <tr>\\n      <td>2019-12-9</td>\\n      <td>Boston</td>\\n      <td>Cleveland</td>\\n      <td>110 - 88</td>\\n      <td><a href=\"https://www.basketball-reference.com/boxscores/201912090BOS.html\" target=\"_blank\">Link</a></td>\\n    </tr>\\n    <tr>\\n      <td>2019-12-6</td>\\n      <td>Boston</td>\\n      <td>Denver</td>\\n      <td>108 - 95</td>\\n      <td><a href=\"https://www.basketball-reference.com/boxscores/201912060BOS.html\" target=\"_blank\">Link</a></td>\\n    </tr>\\n    <tr>\\n      <td>2019-12-4</td>\\n      <td>Boston</td>\\n      <td>Miami</td>\\n      <td>112 - 93</td>\\n      <td><a href=\"https://www.basketball-reference.com/boxscores/201912040BOS.html\" target=\"_blank\">Link</a></td>\\n    </tr>\\n    <tr>\\n      <td>2019-12-3</td>\\n      <td>Miami</td>\\n      <td>Toronto</td>\\n      <td>121 - 110</td>\\n      <td><a href=\"https://www.basketball-reference.com/boxscores/201912030TOR.html\" target=\"_blank\">Link</a></td>\\n    </tr>\\n    <tr>\\n      <td>2019-12-1</td>\\n      <td>Miami</td>\\n      <td>Brooklyn</td>\\n      <td>109 - 106</td>\\n      <td><a href=\"https://www.basketball-reference.com/boxscores/201912010BRK.html\" target=\"_blank\">Link</a></td>\\n    </tr>\\n    <tr>\\n      <td>2019-11-29</td>\\n      <td>Brooklyn</td>\\n      <td>Boston</td>\\n      <td>112 - 107</td>\\n      <td><a href=\"https://www.basketball-reference.com/boxscores/201911290BRK.html\" target=\"_blank\">Link</a></td>\\n    </tr>\\n    <tr>\\n      <td>2019-11-27</td>\\n      <td>Boston</td>\\n      <td>Brooklyn</td>\\n      <td>121 - 110</td>\\n      <td><a href=\"https://www.basketball-reference.com/boxscores/201911270BOS.html\" target=\"_blank\">Link</a></td>\\n    </tr>\\n    <tr>\\n      <td>2019-11-25</td>\\n      <td>Brooklyn</td>\\n      <td>Cleveland</td>\\n      <td>108 - 106</td>\\n      <td><a href=\"https://www.basketball-reference.com/boxscores/201911250CLE.html\" target=\"_blank\">Link</a></td>\\n    </tr>\\n    <tr>\\n      <td>2019-11-24</td>\\n      <td>Brooklyn</td>\\n      <td>New York</td>\\n      <td>103 - 101</td>\\n      <td><a href=\"https://www.basketball-reference.com/boxscores/201911240NYK.html\" target=\"_blank\">Link</a></td>\\n    </tr>\\n    <tr>\\n      <td>2019-11-22</td>\\n      <td>Brooklyn</td>\\n      <td>Sacramento</td>\\n      <td>116 - 97</td>\\n      <td><a href=\"https://www.basketball-reference.com/boxscores/201911220BRK.html\" target=\"_blank\">Link</a></td>\\n    </tr>\\n    <tr>\\n      <td>2019-11-19</td>\\n      <td>Sacramento</td>\\n      <td>Phoenix</td>\\n      <td>120 - 116</td>\\n      <td><a href=\"https://www.basketball-reference.com/boxscores/201911190SAC.html\" target=\"_blank\">Link</a></td>\\n    </tr>\\n    <tr>\\n      <td>2019-11-17</td>\\n      <td>Sacramento</td>\\n      <td>Boston</td>\\n      <td>100 - 99</td>\\n      <td><a href=\"https://www.basketball-reference.com/boxscores/201911170SAC.html\" target=\"_blank\">Link</a></td>\\n    </tr>\\n    <tr>\\n      <td>2019-11-15</td>\\n      <td>Boston</td>\\n      <td>Golden State</td>\\n      <td>105 - 100</td>\\n      <td><a href=\"https://www.basketball-reference.com/boxscores/201911150GSW.html\" target=\"_blank\">Link</a></td>\\n    </tr>\\n    <tr>\\n      <td>2019-11-13</td>\\n      <td>Boston</td>\\n      <td>Washington</td>\\n      <td>140 - 133</td>\\n      <td><a href=\"https://www.basketball-reference.com/boxscores/201911130BOS.html\" target=\"_blank\">Link</a></td>\\n    </tr>\\n    <tr>\\n      <td>2019-11-11</td>\\n      <td>Boston</td>\\n      <td>Dallas</td>\\n      <td>116 - 106</td>\\n      <td><a href=\"https://www.basketball-reference.com/boxscores/201911110BOS.html\" target=\"_blank\">Link</a></td>\\n    </tr>\\n    <tr>\\n      <td>2019-11-9</td>\\n      <td>Boston</td>\\n      <td>San Antonio</td>\\n      <td>135 - 115</td>\\n      <td><a href=\"https://www.basketball-reference.com/boxscores/201911090SAS.html\" target=\"_blank\">Link</a></td>\\n    </tr>\\n    <tr>\\n      <td>2019-11-7</td>\\n      <td>Boston</td>\\n      <td>Charlotte</td>\\n      <td>108 - 87</td>\\n      <td><a href=\"https://www.basketball-reference.com/boxscores/201911070CHO.html\" target=\"_blank\">Link</a></td>\\n    </tr>\\n    <tr>\\n      <td>2019-11-5</td>\\n      <td>Boston</td>\\n      <td>Cleveland</td>\\n      <td>119 - 113</td>\\n      <td><a href=\"https://www.basketball-reference.com/boxscores/201911050CLE.html\" target=\"_blank\">Link</a></td>\\n    </tr>\\n    <tr>\\n      <td>2019-11-1</td>\\n      <td>Boston</td>\\n      <td>New York</td>\\n      <td>104 - 102</td>\\n      <td><a href=\"https://www.basketball-reference.com/boxscores/201911010BOS.html\" target=\"_blank\">Link</a></td>\\n    </tr>\\n    <tr>\\n      <td>2019-10-30</td>\\n      <td>Boston</td>\\n      <td>Milwaukee</td>\\n      <td>116 - 105</td>\\n      <td><a href=\"https://www.basketball-reference.com/boxscores/201910300BOS.html\" target=\"_blank\">Link</a></td>\\n    </tr>\\n    <tr>\\n      <td>2019-10-26</td>\\n      <td>Boston</td>\\n      <td>New York</td>\\n      <td>118 - 95</td>\\n      <td><a href=\"https://www.basketball-reference.com/boxscores/201910260NYK.html\" target=\"_blank\">Link</a></td>\\n    </tr>\\n    <tr>\\n      <td>2019-10-25</td>\\n      <td>Boston</td>\\n      <td>Toronto</td>\\n      <td>112 - 106</td>\\n      <td><a href=\"https://www.basketball-reference.com/boxscores/201910250BOS.html\" target=\"_blank\">Link</a></td>\\n    </tr>\\n    <tr>\\n      <td>2019-10-22</td>\\n      <td>Toronto</td>\\n      <td>New Orleans</td>\\n      <td>130 - 122</td>\\n      <td><a href=\"https://www.basketball-reference.com/boxscores/201910220TOR.html\" target=\"_blank\">Link</a></td>\\n    </tr>\\n  </tbody>\\n</table>'"
      ]
     },
     "execution_count": 91,
     "metadata": {},
     "output_type": "execute_result"
    }
   ],
   "source": [
    "html"
   ]
  },
  {
   "cell_type": "code",
   "execution_count": null,
   "metadata": {},
   "outputs": [],
   "source": []
  }
 ],
 "metadata": {
  "kernelspec": {
   "display_name": "Python 3",
   "language": "python",
   "name": "python3"
  },
  "language_info": {
   "codemirror_mode": {
    "name": "ipython",
    "version": 3
   },
   "file_extension": ".py",
   "mimetype": "text/x-python",
   "name": "python",
   "nbconvert_exporter": "python",
   "pygments_lexer": "ipython3",
   "version": "3.6.4"
  }
 },
 "nbformat": 4,
 "nbformat_minor": 2
}
